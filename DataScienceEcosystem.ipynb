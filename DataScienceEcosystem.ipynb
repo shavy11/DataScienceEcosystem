{
 "cells": [
  {
   "cell_type": "markdown",
   "id": "a5b2f4f8-8795-4c13-9698-8e1fe2ab7571",
   "metadata": {},
   "source": [
    "# Data Science Tools and Ecosystem"
   ]
  },
  {
   "cell_type": "markdown",
   "id": "aafbb8b3-be56-402b-bce5-72a242415001",
   "metadata": {},
   "source": [
    "In this notebook, Data Science Tools and Ecosystem are summarized."
   ]
  },
  {
   "cell_type": "markdown",
   "id": "cd8950ba-9aa5-444f-a5e3-05ea47a57ff2",
   "metadata": {},
   "source": [
    "**Objectives:**\n",
    "* List popular languages for Data Science\n",
    "* List Commonly used libraries by Data Scientists\n",
    "* Data Science Tools\n",
    "* Evaluate arithmetic expressions in Python"
   ]
  },
  {
   "cell_type": "markdown",
   "id": "cb695ec6-b92b-4755-ab3b-a3843e53bc7e",
   "metadata": {},
   "source": [
    "Some of the popular languages that Data Scientists use are:"
   ]
  },
  {
   "cell_type": "markdown",
   "id": "fb9bad7e-5b49-44f2-b42b-420a2dfa0ab7",
   "metadata": {},
   "source": [
    "1. Python\n",
    "2. R\n",
    "3. SQL\n",
    "4. Scala"
   ]
  },
  {
   "cell_type": "markdown",
   "id": "731d22fa-b7c1-43b7-8790-5accd31dd2d3",
   "metadata": {},
   "source": [
    "Some of the commonly used libraries used by Data Scientists include:"
   ]
  },
  {
   "cell_type": "markdown",
   "id": "cbd0f6c2-3034-4cd8-825c-85152f2146e2",
   "metadata": {},
   "source": [
    "1. Pandas\n",
    "2. Numpy\n",
    "3. Matplotlib\n",
    "4. Scikit-learn"
   ]
  },
  {
   "cell_type": "markdown",
   "id": "38e16a04-029e-481d-bca3-535bddad55e7",
   "metadata": {
    "tags": []
   },
   "source": [
    "|Data Science Tools|\n",
    "|-------------------|\n",
    "|MySQL|\n",
    "|MongoDB|\n",
    "|Git|"
   ]
  },
  {
   "cell_type": "markdown",
   "id": "29d62fe1-b608-4d77-9c1f-bea637f3eade",
   "metadata": {},
   "source": [
    "### Below are a few examples of evaluating arithmetic expressions in Python"
   ]
  },
  {
   "cell_type": "code",
   "execution_count": 3,
   "id": "5927da5d-f271-46b0-954d-6372a209374a",
   "metadata": {
    "tags": []
   },
   "outputs": [
    {
     "data": {
      "text/plain": [
       "17"
      ]
     },
     "execution_count": 3,
     "metadata": {},
     "output_type": "execute_result"
    }
   ],
   "source": [
    "#  This a simple arithmetic expression to mutiply then add integers\n",
    "(3*4)+5"
   ]
  },
  {
   "cell_type": "code",
   "execution_count": 4,
   "id": "8e96b266-2789-46bb-9726-8e1324eb97da",
   "metadata": {
    "tags": []
   },
   "outputs": [
    {
     "data": {
      "text/plain": [
       "3.3333333333333335"
      ]
     },
     "execution_count": 4,
     "metadata": {},
     "output_type": "execute_result"
    }
   ],
   "source": [
    "# This will convert 200 minutes to hours by diving by 60\n",
    "200/60"
   ]
  },
  {
   "cell_type": "markdown",
   "id": "389ed7ad-6c1c-4b13-a51b-563680f7b4d9",
   "metadata": {},
   "source": [
    "## Author\n",
    "Shaivya Srivastava"
   ]
  },
  {
   "cell_type": "code",
   "execution_count": null,
   "id": "94f8b9c3-7e07-4081-aef8-5ce7803b5155",
   "metadata": {},
   "outputs": [],
   "source": []
  }
 ],
 "metadata": {
  "kernelspec": {
   "display_name": "Python",
   "language": "python",
   "name": "conda-env-python-py"
  },
  "language_info": {
   "codemirror_mode": {
    "name": "ipython",
    "version": 3
   },
   "file_extension": ".py",
   "mimetype": "text/x-python",
   "name": "python",
   "nbconvert_exporter": "python",
   "pygments_lexer": "ipython3",
   "version": "3.7.12"
  }
 },
 "nbformat": 4,
 "nbformat_minor": 5
}
